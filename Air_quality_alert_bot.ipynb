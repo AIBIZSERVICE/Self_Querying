{
 "cells": [
  {
   "cell_type": "markdown",
   "id": "d14f4216",
   "metadata": {},
   "source": [
    "# Introduction"
   ]
  },
  {
   "cell_type": "markdown",
   "id": "069adfb9",
   "metadata": {},
   "source": [
    "This notebook provides several examples of quenstioning air quality relevant questions on a given csv file. The give csv recored some air concentrations levels in multiple zones in an office buidling. "
   ]
  },
  {
   "cell_type": "markdown",
   "id": "67b83409",
   "metadata": {},
   "source": [
    "# Proceeding directly"
   ]
  },
  {
   "cell_type": "code",
   "execution_count": 1,
   "id": "a4992ade",
   "metadata": {},
   "outputs": [],
   "source": [
    "import openai as ai \n",
    "import pandas as pd "
   ]
  },
  {
   "cell_type": "code",
   "execution_count": 2,
   "id": "a35c401b",
   "metadata": {},
   "outputs": [],
   "source": [
    "ai.api_key= \"\""
   ]
  },
  {
   "cell_type": "code",
   "execution_count": 4,
   "id": "a093d57f",
   "metadata": {},
   "outputs": [
    {
     "data": {
      "text/html": [
       "<div>\n",
       "<style scoped>\n",
       "    .dataframe tbody tr th:only-of-type {\n",
       "        vertical-align: middle;\n",
       "    }\n",
       "\n",
       "    .dataframe tbody tr th {\n",
       "        vertical-align: top;\n",
       "    }\n",
       "\n",
       "    .dataframe thead th {\n",
       "        text-align: right;\n",
       "    }\n",
       "</style>\n",
       "<table border=\"1\" class=\"dataframe\">\n",
       "  <thead>\n",
       "    <tr style=\"text-align: right;\">\n",
       "      <th></th>\n",
       "      <th>Unnamed: 0</th>\n",
       "      <th>building_id</th>\n",
       "      <th>zone</th>\n",
       "      <th>local_time</th>\n",
       "      <th>co2</th>\n",
       "      <th>pm2.5</th>\n",
       "      <th>voc</th>\n",
       "      <th>operating_date</th>\n",
       "    </tr>\n",
       "  </thead>\n",
       "  <tbody>\n",
       "    <tr>\n",
       "      <th>0</th>\n",
       "      <td>0</td>\n",
       "      <td>montmartre_1</td>\n",
       "      <td>level_0_canteen</td>\n",
       "      <td>2021-01-01 04:00:00</td>\n",
       "      <td>428.040043</td>\n",
       "      <td>4.671595</td>\n",
       "      <td>120.008563</td>\n",
       "      <td>2021-01-01</td>\n",
       "    </tr>\n",
       "    <tr>\n",
       "      <th>1</th>\n",
       "      <td>1</td>\n",
       "      <td>montmartre_1</td>\n",
       "      <td>level_0_canteen</td>\n",
       "      <td>2021-01-01 04:15:00</td>\n",
       "      <td>411.791914</td>\n",
       "      <td>5.748613</td>\n",
       "      <td>102.994119</td>\n",
       "      <td>2021-01-01</td>\n",
       "    </tr>\n",
       "    <tr>\n",
       "      <th>2</th>\n",
       "      <td>2</td>\n",
       "      <td>montmartre_1</td>\n",
       "      <td>level_0_canteen</td>\n",
       "      <td>2021-01-01 04:30:00</td>\n",
       "      <td>460.474686</td>\n",
       "      <td>5.228284</td>\n",
       "      <td>80.632254</td>\n",
       "      <td>2021-01-01</td>\n",
       "    </tr>\n",
       "    <tr>\n",
       "      <th>3</th>\n",
       "      <td>3</td>\n",
       "      <td>montmartre_1</td>\n",
       "      <td>level_0_canteen</td>\n",
       "      <td>2021-01-01 04:45:00</td>\n",
       "      <td>426.727381</td>\n",
       "      <td>5.576495</td>\n",
       "      <td>88.328663</td>\n",
       "      <td>2021-01-01</td>\n",
       "    </tr>\n",
       "    <tr>\n",
       "      <th>4</th>\n",
       "      <td>4</td>\n",
       "      <td>montmartre_1</td>\n",
       "      <td>level_0_canteen</td>\n",
       "      <td>2021-01-01 05:00:00</td>\n",
       "      <td>386.360277</td>\n",
       "      <td>5.021224</td>\n",
       "      <td>84.959570</td>\n",
       "      <td>2021-01-01</td>\n",
       "    </tr>\n",
       "  </tbody>\n",
       "</table>\n",
       "</div>"
      ],
      "text/plain": [
       "   Unnamed: 0   building_id             zone           local_time         co2   \n",
       "0           0  montmartre_1  level_0_canteen  2021-01-01 04:00:00  428.040043  \\\n",
       "1           1  montmartre_1  level_0_canteen  2021-01-01 04:15:00  411.791914   \n",
       "2           2  montmartre_1  level_0_canteen  2021-01-01 04:30:00  460.474686   \n",
       "3           3  montmartre_1  level_0_canteen  2021-01-01 04:45:00  426.727381   \n",
       "4           4  montmartre_1  level_0_canteen  2021-01-01 05:00:00  386.360277   \n",
       "\n",
       "      pm2.5         voc operating_date  \n",
       "0  4.671595  120.008563     2021-01-01  \n",
       "1  5.748613  102.994119     2021-01-01  \n",
       "2  5.228284   80.632254     2021-01-01  \n",
       "3  5.576495   88.328663     2021-01-01  \n",
       "4  5.021224   84.959570     2021-01-01  "
      ]
     },
     "execution_count": 4,
     "metadata": {},
     "output_type": "execute_result"
    }
   ],
   "source": [
    "air_quality=pd.read_csv(\"air_quality.csv\")\n",
    "air_quality.head()"
   ]
  },
  {
   "cell_type": "code",
   "execution_count": 4,
   "id": "cabc7b44",
   "metadata": {},
   "outputs": [],
   "source": [
    "def alert_bot(prompts, temperature=0.0, model=\"gpt-3.5\"):\n",
    "    messages = [{\"role\": \"system\", \"content\": \"You are an air quality aler bot.\"}]\n",
    "    for prompt in prompts:\n",
    "        messages.append({\"role\": \"user\", \"content\": prompt})\n",
    "        response = ai.ChatCompletion.create(\n",
    "            model=model, temperature=temperature, messages=messages\n",
    "        )\n",
    "    return response[\"choices\"][0][\"message\"][\"content\"]"
   ]
  },
  {
   "cell_type": "code",
   "execution_count": 5,
   "id": "6c1d0343",
   "metadata": {},
   "outputs": [],
   "source": [
    "air_quality_criteria=\"1. The average value co2 should be less than 600 by zone, \\\n",
    "2. The average value of pm2.5 should be less than 10 by zone, \\\n",
    "3. The average value of voc should be less than 150 by zone.\"\n"
   ]
  },
  {
   "cell_type": "code",
   "execution_count": 6,
   "id": "ce0592f9",
   "metadata": {},
   "outputs": [],
   "source": [
    "air_quality=air_quality[[\"zone\",\"local_time\",\"co2\",\"voc\",\"pm2.5\"]]\n",
    "air_quality_str=air_quality.to_csv(index=False)"
   ]
  },
  {
   "cell_type": "code",
   "execution_count": 7,
   "id": "ae0bb951",
   "metadata": {},
   "outputs": [
    {
     "ename": "InvalidRequestError",
     "evalue": "This model's maximum context length is 4097 tokens. However, your messages resulted in 3823656 tokens. Please reduce the length of the messages.",
     "output_type": "error",
     "traceback": [
      "\u001b[0;31m---------------------------------------------------------------------------\u001b[0m",
      "\u001b[0;31mInvalidRequestError\u001b[0m                       Traceback (most recent call last)",
      "Cell \u001b[0;32mIn[7], line 10\u001b[0m\n\u001b[1;32m      2\u001b[0m prompts\u001b[38;5;241m.\u001b[39mappend(\n\u001b[1;32m      3\u001b[0m     \u001b[38;5;124mf\u001b[39m\u001b[38;5;124m\"\u001b[39m\u001b[38;5;124mHere is the criteria for air quality in an office building: \u001b[39m\u001b[38;5;130;01m\\n\u001b[39;00m\u001b[38;5;130;01m\\n\u001b[39;00m\u001b[38;5;124m \u001b[39m\u001b[38;5;132;01m{\u001b[39;00mair_quality_criteria\u001b[38;5;132;01m}\u001b[39;00m\u001b[38;5;124m \u001b[39m\u001b[38;5;130;01m\\n\u001b[39;00m\u001b[38;5;130;01m\\n\u001b[39;00m\u001b[38;5;124m\"\u001b[39m\n\u001b[1;32m      4\u001b[0m )\n\u001b[1;32m      5\u001b[0m prompts\u001b[38;5;241m.\u001b[39mappend(\n\u001b[1;32m      6\u001b[0m     \u001b[38;5;124mf\u001b[39m\u001b[38;5;124m\"\u001b[39m\u001b[38;5;124mDoes zone level_2_space_z \u001b[39m\u001b[38;5;132;01m{\u001b[39;00mair_quality_str\u001b[38;5;132;01m}\u001b[39;00m\u001b[38;5;124m satisfies the criteria for air quality in the office building? \u001b[39m\u001b[38;5;130;01m\\n\u001b[39;00m\u001b[38;5;130;01m\\n\u001b[39;00m\u001b[38;5;130;01m\\\u001b[39;00m\n\u001b[1;32m      7\u001b[0m \u001b[38;5;124m    If the data does not satisfy criteria above, please send an alert by telling which zone does not satisfy which item. \u001b[39m\u001b[38;5;130;01m\\\u001b[39;00m\n\u001b[1;32m      8\u001b[0m \u001b[38;5;124mOtherwise, please tell that we don\u001b[39m\u001b[38;5;124m'\u001b[39m\u001b[38;5;124mt need to raise any alert.\u001b[39m\u001b[38;5;124m\"\u001b[39m\n\u001b[1;32m      9\u001b[0m )\n\u001b[0;32m---> 10\u001b[0m response \u001b[38;5;241m=\u001b[39m \u001b[43mprompt_model\u001b[49m\u001b[43m(\u001b[49m\u001b[43mprompts\u001b[49m\u001b[43m,\u001b[49m\u001b[43m \u001b[49m\u001b[43mtemperature\u001b[49m\u001b[38;5;241;43m=\u001b[39;49m\u001b[38;5;241;43m0.0\u001b[39;49m\u001b[43m,\u001b[49m\u001b[43m \u001b[49m\u001b[43mmodel\u001b[49m\u001b[38;5;241;43m=\u001b[39;49m\u001b[38;5;124;43m\"\u001b[39;49m\u001b[38;5;124;43mgpt-3.5-turbo\u001b[39;49m\u001b[38;5;124;43m\"\u001b[39;49m\u001b[43m)\u001b[49m\n\u001b[1;32m     11\u001b[0m \u001b[38;5;28mprint\u001b[39m(response)\n",
      "Cell \u001b[0;32mIn[4], line 5\u001b[0m, in \u001b[0;36mprompt_model\u001b[0;34m(prompts, temperature, model)\u001b[0m\n\u001b[1;32m      3\u001b[0m \u001b[38;5;28;01mfor\u001b[39;00m prompt \u001b[38;5;129;01min\u001b[39;00m prompts:\n\u001b[1;32m      4\u001b[0m     messages\u001b[38;5;241m.\u001b[39mappend({\u001b[38;5;124m\"\u001b[39m\u001b[38;5;124mrole\u001b[39m\u001b[38;5;124m\"\u001b[39m: \u001b[38;5;124m\"\u001b[39m\u001b[38;5;124muser\u001b[39m\u001b[38;5;124m\"\u001b[39m, \u001b[38;5;124m\"\u001b[39m\u001b[38;5;124mcontent\u001b[39m\u001b[38;5;124m\"\u001b[39m: prompt})\n\u001b[0;32m----> 5\u001b[0m     response \u001b[38;5;241m=\u001b[39m \u001b[43mai\u001b[49m\u001b[38;5;241;43m.\u001b[39;49m\u001b[43mChatCompletion\u001b[49m\u001b[38;5;241;43m.\u001b[39;49m\u001b[43mcreate\u001b[49m\u001b[43m(\u001b[49m\n\u001b[1;32m      6\u001b[0m \u001b[43m        \u001b[49m\u001b[43mmodel\u001b[49m\u001b[38;5;241;43m=\u001b[39;49m\u001b[43mmodel\u001b[49m\u001b[43m,\u001b[49m\u001b[43m \u001b[49m\u001b[43mtemperature\u001b[49m\u001b[38;5;241;43m=\u001b[39;49m\u001b[43mtemperature\u001b[49m\u001b[43m,\u001b[49m\u001b[43m \u001b[49m\u001b[43mmessages\u001b[49m\u001b[38;5;241;43m=\u001b[39;49m\u001b[43mmessages\u001b[49m\n\u001b[1;32m      7\u001b[0m \u001b[43m    \u001b[49m\u001b[43m)\u001b[49m\n\u001b[1;32m      8\u001b[0m \u001b[38;5;28;01mreturn\u001b[39;00m response[\u001b[38;5;124m\"\u001b[39m\u001b[38;5;124mchoices\u001b[39m\u001b[38;5;124m\"\u001b[39m][\u001b[38;5;241m0\u001b[39m][\u001b[38;5;124m\"\u001b[39m\u001b[38;5;124mmessage\u001b[39m\u001b[38;5;124m\"\u001b[39m][\u001b[38;5;124m\"\u001b[39m\u001b[38;5;124mcontent\u001b[39m\u001b[38;5;124m\"\u001b[39m]\n",
      "File \u001b[0;32m~/.pyenv/versions/notebook/lib/python3.10/site-packages/openai/api_resources/chat_completion.py:25\u001b[0m, in \u001b[0;36mChatCompletion.create\u001b[0;34m(cls, *args, **kwargs)\u001b[0m\n\u001b[1;32m     23\u001b[0m \u001b[38;5;28;01mwhile\u001b[39;00m \u001b[38;5;28;01mTrue\u001b[39;00m:\n\u001b[1;32m     24\u001b[0m     \u001b[38;5;28;01mtry\u001b[39;00m:\n\u001b[0;32m---> 25\u001b[0m         \u001b[38;5;28;01mreturn\u001b[39;00m \u001b[38;5;28;43msuper\u001b[39;49m\u001b[43m(\u001b[49m\u001b[43m)\u001b[49m\u001b[38;5;241;43m.\u001b[39;49m\u001b[43mcreate\u001b[49m\u001b[43m(\u001b[49m\u001b[38;5;241;43m*\u001b[39;49m\u001b[43margs\u001b[49m\u001b[43m,\u001b[49m\u001b[43m \u001b[49m\u001b[38;5;241;43m*\u001b[39;49m\u001b[38;5;241;43m*\u001b[39;49m\u001b[43mkwargs\u001b[49m\u001b[43m)\u001b[49m\n\u001b[1;32m     26\u001b[0m     \u001b[38;5;28;01mexcept\u001b[39;00m TryAgain \u001b[38;5;28;01mas\u001b[39;00m e:\n\u001b[1;32m     27\u001b[0m         \u001b[38;5;28;01mif\u001b[39;00m timeout \u001b[38;5;129;01mis\u001b[39;00m \u001b[38;5;129;01mnot\u001b[39;00m \u001b[38;5;28;01mNone\u001b[39;00m \u001b[38;5;129;01mand\u001b[39;00m time\u001b[38;5;241m.\u001b[39mtime() \u001b[38;5;241m>\u001b[39m start \u001b[38;5;241m+\u001b[39m timeout:\n",
      "File \u001b[0;32m~/.pyenv/versions/notebook/lib/python3.10/site-packages/openai/api_resources/abstract/engine_api_resource.py:153\u001b[0m, in \u001b[0;36mEngineAPIResource.create\u001b[0;34m(cls, api_key, api_base, api_type, request_id, api_version, organization, **params)\u001b[0m\n\u001b[1;32m    127\u001b[0m \u001b[38;5;129m@classmethod\u001b[39m\n\u001b[1;32m    128\u001b[0m \u001b[38;5;28;01mdef\u001b[39;00m \u001b[38;5;21mcreate\u001b[39m(\n\u001b[1;32m    129\u001b[0m     \u001b[38;5;28mcls\u001b[39m,\n\u001b[0;32m   (...)\u001b[0m\n\u001b[1;32m    136\u001b[0m     \u001b[38;5;241m*\u001b[39m\u001b[38;5;241m*\u001b[39mparams,\n\u001b[1;32m    137\u001b[0m ):\n\u001b[1;32m    138\u001b[0m     (\n\u001b[1;32m    139\u001b[0m         deployment_id,\n\u001b[1;32m    140\u001b[0m         engine,\n\u001b[0;32m   (...)\u001b[0m\n\u001b[1;32m    150\u001b[0m         api_key, api_base, api_type, api_version, organization, \u001b[38;5;241m*\u001b[39m\u001b[38;5;241m*\u001b[39mparams\n\u001b[1;32m    151\u001b[0m     )\n\u001b[0;32m--> 153\u001b[0m     response, _, api_key \u001b[38;5;241m=\u001b[39m \u001b[43mrequestor\u001b[49m\u001b[38;5;241;43m.\u001b[39;49m\u001b[43mrequest\u001b[49m\u001b[43m(\u001b[49m\n\u001b[1;32m    154\u001b[0m \u001b[43m        \u001b[49m\u001b[38;5;124;43m\"\u001b[39;49m\u001b[38;5;124;43mpost\u001b[39;49m\u001b[38;5;124;43m\"\u001b[39;49m\u001b[43m,\u001b[49m\n\u001b[1;32m    155\u001b[0m \u001b[43m        \u001b[49m\u001b[43murl\u001b[49m\u001b[43m,\u001b[49m\n\u001b[1;32m    156\u001b[0m \u001b[43m        \u001b[49m\u001b[43mparams\u001b[49m\u001b[38;5;241;43m=\u001b[39;49m\u001b[43mparams\u001b[49m\u001b[43m,\u001b[49m\n\u001b[1;32m    157\u001b[0m \u001b[43m        \u001b[49m\u001b[43mheaders\u001b[49m\u001b[38;5;241;43m=\u001b[39;49m\u001b[43mheaders\u001b[49m\u001b[43m,\u001b[49m\n\u001b[1;32m    158\u001b[0m \u001b[43m        \u001b[49m\u001b[43mstream\u001b[49m\u001b[38;5;241;43m=\u001b[39;49m\u001b[43mstream\u001b[49m\u001b[43m,\u001b[49m\n\u001b[1;32m    159\u001b[0m \u001b[43m        \u001b[49m\u001b[43mrequest_id\u001b[49m\u001b[38;5;241;43m=\u001b[39;49m\u001b[43mrequest_id\u001b[49m\u001b[43m,\u001b[49m\n\u001b[1;32m    160\u001b[0m \u001b[43m        \u001b[49m\u001b[43mrequest_timeout\u001b[49m\u001b[38;5;241;43m=\u001b[39;49m\u001b[43mrequest_timeout\u001b[49m\u001b[43m,\u001b[49m\n\u001b[1;32m    161\u001b[0m \u001b[43m    \u001b[49m\u001b[43m)\u001b[49m\n\u001b[1;32m    163\u001b[0m     \u001b[38;5;28;01mif\u001b[39;00m stream:\n\u001b[1;32m    164\u001b[0m         \u001b[38;5;66;03m# must be an iterator\u001b[39;00m\n\u001b[1;32m    165\u001b[0m         \u001b[38;5;28;01massert\u001b[39;00m \u001b[38;5;129;01mnot\u001b[39;00m \u001b[38;5;28misinstance\u001b[39m(response, OpenAIResponse)\n",
      "File \u001b[0;32m~/.pyenv/versions/notebook/lib/python3.10/site-packages/openai/api_requestor.py:226\u001b[0m, in \u001b[0;36mAPIRequestor.request\u001b[0;34m(self, method, url, params, headers, files, stream, request_id, request_timeout)\u001b[0m\n\u001b[1;32m    205\u001b[0m \u001b[38;5;28;01mdef\u001b[39;00m \u001b[38;5;21mrequest\u001b[39m(\n\u001b[1;32m    206\u001b[0m     \u001b[38;5;28mself\u001b[39m,\n\u001b[1;32m    207\u001b[0m     method,\n\u001b[0;32m   (...)\u001b[0m\n\u001b[1;32m    214\u001b[0m     request_timeout: Optional[Union[\u001b[38;5;28mfloat\u001b[39m, Tuple[\u001b[38;5;28mfloat\u001b[39m, \u001b[38;5;28mfloat\u001b[39m]]] \u001b[38;5;241m=\u001b[39m \u001b[38;5;28;01mNone\u001b[39;00m,\n\u001b[1;32m    215\u001b[0m ) \u001b[38;5;241m-\u001b[39m\u001b[38;5;241m>\u001b[39m Tuple[Union[OpenAIResponse, Iterator[OpenAIResponse]], \u001b[38;5;28mbool\u001b[39m, \u001b[38;5;28mstr\u001b[39m]:\n\u001b[1;32m    216\u001b[0m     result \u001b[38;5;241m=\u001b[39m \u001b[38;5;28mself\u001b[39m\u001b[38;5;241m.\u001b[39mrequest_raw(\n\u001b[1;32m    217\u001b[0m         method\u001b[38;5;241m.\u001b[39mlower(),\n\u001b[1;32m    218\u001b[0m         url,\n\u001b[0;32m   (...)\u001b[0m\n\u001b[1;32m    224\u001b[0m         request_timeout\u001b[38;5;241m=\u001b[39mrequest_timeout,\n\u001b[1;32m    225\u001b[0m     )\n\u001b[0;32m--> 226\u001b[0m     resp, got_stream \u001b[38;5;241m=\u001b[39m \u001b[38;5;28;43mself\u001b[39;49m\u001b[38;5;241;43m.\u001b[39;49m\u001b[43m_interpret_response\u001b[49m\u001b[43m(\u001b[49m\u001b[43mresult\u001b[49m\u001b[43m,\u001b[49m\u001b[43m \u001b[49m\u001b[43mstream\u001b[49m\u001b[43m)\u001b[49m\n\u001b[1;32m    227\u001b[0m     \u001b[38;5;28;01mreturn\u001b[39;00m resp, got_stream, \u001b[38;5;28mself\u001b[39m\u001b[38;5;241m.\u001b[39mapi_key\n",
      "File \u001b[0;32m~/.pyenv/versions/notebook/lib/python3.10/site-packages/openai/api_requestor.py:620\u001b[0m, in \u001b[0;36mAPIRequestor._interpret_response\u001b[0;34m(self, result, stream)\u001b[0m\n\u001b[1;32m    612\u001b[0m     \u001b[38;5;28;01mreturn\u001b[39;00m (\n\u001b[1;32m    613\u001b[0m         \u001b[38;5;28mself\u001b[39m\u001b[38;5;241m.\u001b[39m_interpret_response_line(\n\u001b[1;32m    614\u001b[0m             line, result\u001b[38;5;241m.\u001b[39mstatus_code, result\u001b[38;5;241m.\u001b[39mheaders, stream\u001b[38;5;241m=\u001b[39m\u001b[38;5;28;01mTrue\u001b[39;00m\n\u001b[1;32m    615\u001b[0m         )\n\u001b[1;32m    616\u001b[0m         \u001b[38;5;28;01mfor\u001b[39;00m line \u001b[38;5;129;01min\u001b[39;00m parse_stream(result\u001b[38;5;241m.\u001b[39miter_lines())\n\u001b[1;32m    617\u001b[0m     ), \u001b[38;5;28;01mTrue\u001b[39;00m\n\u001b[1;32m    618\u001b[0m \u001b[38;5;28;01melse\u001b[39;00m:\n\u001b[1;32m    619\u001b[0m     \u001b[38;5;28;01mreturn\u001b[39;00m (\n\u001b[0;32m--> 620\u001b[0m         \u001b[38;5;28;43mself\u001b[39;49m\u001b[38;5;241;43m.\u001b[39;49m\u001b[43m_interpret_response_line\u001b[49m\u001b[43m(\u001b[49m\n\u001b[1;32m    621\u001b[0m \u001b[43m            \u001b[49m\u001b[43mresult\u001b[49m\u001b[38;5;241;43m.\u001b[39;49m\u001b[43mcontent\u001b[49m\u001b[38;5;241;43m.\u001b[39;49m\u001b[43mdecode\u001b[49m\u001b[43m(\u001b[49m\u001b[38;5;124;43m\"\u001b[39;49m\u001b[38;5;124;43mutf-8\u001b[39;49m\u001b[38;5;124;43m\"\u001b[39;49m\u001b[43m)\u001b[49m\u001b[43m,\u001b[49m\n\u001b[1;32m    622\u001b[0m \u001b[43m            \u001b[49m\u001b[43mresult\u001b[49m\u001b[38;5;241;43m.\u001b[39;49m\u001b[43mstatus_code\u001b[49m\u001b[43m,\u001b[49m\n\u001b[1;32m    623\u001b[0m \u001b[43m            \u001b[49m\u001b[43mresult\u001b[49m\u001b[38;5;241;43m.\u001b[39;49m\u001b[43mheaders\u001b[49m\u001b[43m,\u001b[49m\n\u001b[1;32m    624\u001b[0m \u001b[43m            \u001b[49m\u001b[43mstream\u001b[49m\u001b[38;5;241;43m=\u001b[39;49m\u001b[38;5;28;43;01mFalse\u001b[39;49;00m\u001b[43m,\u001b[49m\n\u001b[1;32m    625\u001b[0m \u001b[43m        \u001b[49m\u001b[43m)\u001b[49m,\n\u001b[1;32m    626\u001b[0m         \u001b[38;5;28;01mFalse\u001b[39;00m,\n\u001b[1;32m    627\u001b[0m     )\n",
      "File \u001b[0;32m~/.pyenv/versions/notebook/lib/python3.10/site-packages/openai/api_requestor.py:683\u001b[0m, in \u001b[0;36mAPIRequestor._interpret_response_line\u001b[0;34m(self, rbody, rcode, rheaders, stream)\u001b[0m\n\u001b[1;32m    681\u001b[0m stream_error \u001b[38;5;241m=\u001b[39m stream \u001b[38;5;129;01mand\u001b[39;00m \u001b[38;5;124m\"\u001b[39m\u001b[38;5;124merror\u001b[39m\u001b[38;5;124m\"\u001b[39m \u001b[38;5;129;01min\u001b[39;00m resp\u001b[38;5;241m.\u001b[39mdata\n\u001b[1;32m    682\u001b[0m \u001b[38;5;28;01mif\u001b[39;00m stream_error \u001b[38;5;129;01mor\u001b[39;00m \u001b[38;5;129;01mnot\u001b[39;00m \u001b[38;5;241m200\u001b[39m \u001b[38;5;241m<\u001b[39m\u001b[38;5;241m=\u001b[39m rcode \u001b[38;5;241m<\u001b[39m \u001b[38;5;241m300\u001b[39m:\n\u001b[0;32m--> 683\u001b[0m     \u001b[38;5;28;01mraise\u001b[39;00m \u001b[38;5;28mself\u001b[39m\u001b[38;5;241m.\u001b[39mhandle_error_response(\n\u001b[1;32m    684\u001b[0m         rbody, rcode, resp\u001b[38;5;241m.\u001b[39mdata, rheaders, stream_error\u001b[38;5;241m=\u001b[39mstream_error\n\u001b[1;32m    685\u001b[0m     )\n\u001b[1;32m    686\u001b[0m \u001b[38;5;28;01mreturn\u001b[39;00m resp\n",
      "\u001b[0;31mInvalidRequestError\u001b[0m: This model's maximum context length is 4097 tokens. However, your messages resulted in 3823656 tokens. Please reduce the length of the messages."
     ]
    }
   ],
   "source": [
    "prompts = []\n",
    "prompts.append(\n",
    "    f\"Here is the criteria for air quality in an office building: \\n\\n {air_quality_criteria} \\n\\n\"\n",
    ")\n",
    "prompts.append(\n",
    "    f\"Does zone level_2_space_z {air_quality_str} satisfies the criteria for air quality in the office building? \\n\\n\\\n",
    "    If the data does not satisfy criteria above, please send an alert by telling which zone does not satisfy which item. \\\n",
    "Otherwise, please tell that we don't need to raise any alert.\"\n",
    ")\n",
    "response = alert_bot(prompts, temperature=0.0, model=\"gpt-3.5-turbo\")\n",
    "print(response)"
   ]
  },
  {
   "cell_type": "code",
   "execution_count": 8,
   "id": "265d8e67",
   "metadata": {},
   "outputs": [],
   "source": [
    "air_quality=air_quality[air_quality[\"zone\"]==\"level_2_space_z\"].reset_index(drop=True)[:50]\n",
    "air_quality_str=air_quality.to_csv(index=False)"
   ]
  },
  {
   "cell_type": "code",
   "execution_count": 9,
   "id": "0a4b9a81",
   "metadata": {},
   "outputs": [
    {
     "name": "stdout",
     "output_type": "stream",
     "text": [
      "Based on the provided data, the average value of CO2 in zone level_2_space_z is less than 600, the average value of PM2.5 is less than 10, and the average value of VOC is less than 150. Therefore, we don't need to raise any alert.\n"
     ]
    }
   ],
   "source": [
    "prompts = []\n",
    "prompts.append(\n",
    "    f\"Here is the criteria for air quality in an office building: \\n\\n {air_quality_criteria} \\n\\n\"\n",
    ")\n",
    "prompts.append(\n",
    "    f\"Does zone level_2_space_z {air_quality_str} satisfies the criteria for air quality in the office building? \\n\\n\\\n",
    "    If the data does not satisfy criteria above, please send an alert by telling which zone does not satisfy which item. \\\n",
    "Otherwise, please tell that we don't need to raise any alert.\"\n",
    ")\n",
    "response = alert_bot(prompts, temperature=0.0, model=\"gpt-3.5-turbo\")\n",
    "print(response)"
   ]
  },
  {
   "cell_type": "code",
   "execution_count": 10,
   "id": "803e780f",
   "metadata": {},
   "outputs": [
    {
     "data": {
      "text/plain": [
       "co2      511.961525\n",
       "pm2.5      8.282097\n",
       "voc      178.194309\n",
       "dtype: float64"
      ]
     },
     "execution_count": 10,
     "metadata": {},
     "output_type": "execute_result"
    }
   ],
   "source": [
    "air_quality_table[[\"co2\",\"pm2.5\",\"voc\"]].mean() "
   ]
  },
  {
   "cell_type": "markdown",
   "id": "3838c952",
   "metadata": {},
   "source": [
    "# Using pandas agent  "
   ]
  },
  {
   "cell_type": "code",
   "execution_count": 8,
   "id": "fd6cfa67",
   "metadata": {},
   "outputs": [],
   "source": [
    "from langchain.agents import create_pandas_dataframe_agent\n",
    "from langchain.chat_models import ChatOpenAI\n",
    "import pandas as pd\n",
    "from langchain.chains import SimpleSequentialChain\n",
    "from langchain import PromptTemplate, LLMChain\n",
    "import os"
   ]
  },
  {
   "cell_type": "code",
   "execution_count": 9,
   "id": "b05af12e",
   "metadata": {},
   "outputs": [],
   "source": [
    "os.environ['OPENAI_API_KEY'] = \"\"\n",
    "llm=ChatOpenAI(temperature=0, model_name=\"gpt-3.5-turbo\")"
   ]
  },
  {
   "cell_type": "code",
   "execution_count": 10,
   "id": "cf12eceb",
   "metadata": {},
   "outputs": [],
   "source": [
    "air_quality=pd.read_csv(\"air_quality.csv\")"
   ]
  },
  {
   "cell_type": "code",
   "execution_count": 11,
   "id": "4d889863",
   "metadata": {},
   "outputs": [
    {
     "data": {
      "text/html": [
       "<div>\n",
       "<style scoped>\n",
       "    .dataframe tbody tr th:only-of-type {\n",
       "        vertical-align: middle;\n",
       "    }\n",
       "\n",
       "    .dataframe tbody tr th {\n",
       "        vertical-align: top;\n",
       "    }\n",
       "\n",
       "    .dataframe thead th {\n",
       "        text-align: right;\n",
       "    }\n",
       "</style>\n",
       "<table border=\"1\" class=\"dataframe\">\n",
       "  <thead>\n",
       "    <tr style=\"text-align: right;\">\n",
       "      <th></th>\n",
       "      <th>co2</th>\n",
       "      <th>voc</th>\n",
       "      <th>pm2.5</th>\n",
       "    </tr>\n",
       "    <tr>\n",
       "      <th>zone</th>\n",
       "      <th></th>\n",
       "      <th></th>\n",
       "      <th></th>\n",
       "    </tr>\n",
       "  </thead>\n",
       "  <tbody>\n",
       "    <tr>\n",
       "      <th>level_0_canteen</th>\n",
       "      <td>531.322219</td>\n",
       "      <td>148.982919</td>\n",
       "      <td>7.482683</td>\n",
       "    </tr>\n",
       "    <tr>\n",
       "      <th>level_1_macrosoft</th>\n",
       "      <td>515.894641</td>\n",
       "      <td>148.976711</td>\n",
       "      <td>7.498013</td>\n",
       "    </tr>\n",
       "    <tr>\n",
       "      <th>level_2_space_z</th>\n",
       "      <td>515.347956</td>\n",
       "      <td>149.304085</td>\n",
       "      <td>7.496130</td>\n",
       "    </tr>\n",
       "    <tr>\n",
       "      <th>level_3_space_z</th>\n",
       "      <td>512.595859</td>\n",
       "      <td>148.832491</td>\n",
       "      <td>7.494349</td>\n",
       "    </tr>\n",
       "    <tr>\n",
       "      <th>level_3_the_bossing_company</th>\n",
       "      <td>514.028917</td>\n",
       "      <td>149.097064</td>\n",
       "      <td>7.521987</td>\n",
       "    </tr>\n",
       "    <tr>\n",
       "      <th>level_4_dumont</th>\n",
       "      <td>514.245985</td>\n",
       "      <td>148.965310</td>\n",
       "      <td>7.486373</td>\n",
       "    </tr>\n",
       "    <tr>\n",
       "      <th>level_4_intratrust</th>\n",
       "      <td>516.842123</td>\n",
       "      <td>149.012107</td>\n",
       "      <td>7.506191</td>\n",
       "    </tr>\n",
       "    <tr>\n",
       "      <th>level_5_appleson_spector_dimm</th>\n",
       "      <td>516.491006</td>\n",
       "      <td>148.964516</td>\n",
       "      <td>7.509610</td>\n",
       "    </tr>\n",
       "    <tr>\n",
       "      <th>level_5_exponentlabs</th>\n",
       "      <td>515.360147</td>\n",
       "      <td>148.709483</td>\n",
       "      <td>7.521974</td>\n",
       "    </tr>\n",
       "    <tr>\n",
       "      <th>level_5_perinne_notary</th>\n",
       "      <td>515.274098</td>\n",
       "      <td>148.919806</td>\n",
       "      <td>7.480685</td>\n",
       "    </tr>\n",
       "  </tbody>\n",
       "</table>\n",
       "</div>"
      ],
      "text/plain": [
       "                                      co2         voc     pm2.5\n",
       "zone                                                           \n",
       "level_0_canteen                531.322219  148.982919  7.482683\n",
       "level_1_macrosoft              515.894641  148.976711  7.498013\n",
       "level_2_space_z                515.347956  149.304085  7.496130\n",
       "level_3_space_z                512.595859  148.832491  7.494349\n",
       "level_3_the_bossing_company    514.028917  149.097064  7.521987\n",
       "level_4_dumont                 514.245985  148.965310  7.486373\n",
       "level_4_intratrust             516.842123  149.012107  7.506191\n",
       "level_5_appleson_spector_dimm  516.491006  148.964516  7.509610\n",
       "level_5_exponentlabs           515.360147  148.709483  7.521974\n",
       "level_5_perinne_notary         515.274098  148.919806  7.480685"
      ]
     },
     "execution_count": 11,
     "metadata": {},
     "output_type": "execute_result"
    }
   ],
   "source": [
    "air_quality.groupby(\"zone\")[[\"co2\",\"voc\",\"pm2.5\"]].mean()"
   ]
  },
  {
   "cell_type": "code",
   "execution_count": 12,
   "id": "71c725c5",
   "metadata": {},
   "outputs": [],
   "source": [
    "pandas_agent=create_pandas_dataframe_agent(\n",
    "    llm=llm, \n",
    "    df=air_quality, \n",
    "    verbose=False, \n",
    ")"
   ]
  },
  {
   "cell_type": "code",
   "execution_count": 13,
   "id": "aa9690af",
   "metadata": {},
   "outputs": [],
   "source": [
    "prompt_template = \"\"\"Check if the {output} satisfies the following criteria.\\\n",
    "\n",
    "1. The value co2 should be less than 600, \\\n",
    "2. The value of pm2.5 should be less than 10, \\\n",
    "3. The value of voc should be less than 150.\n",
    "\n",
    "If not, send an alert as which zone does not satisfiy which criteria. \n",
    "Otherwise, say that no alert shoud be sent. \n",
    "\"\"\"\n",
    "\n",
    "PROMPT = PromptTemplate(\n",
    "    template=prompt_template, input_variables=[\"output\"]\n",
    ")\n",
    "alert_sender=LLMChain(\n",
    "    llm=llm,\n",
    "    prompt=PROMPT\n",
    ")"
   ]
  },
  {
   "cell_type": "code",
   "execution_count": 14,
   "id": "901af115",
   "metadata": {},
   "outputs": [
    {
     "name": "stdout",
     "output_type": "stream",
     "text": [
      "\n",
      "\n",
      "\u001b[1m> Entering new SimpleSequentialChain chain...\u001b[0m\n",
      "\u001b[36;1m\u001b[1;3mco2 mean is 515.347956, pm2.5 mean is 7.496130, and voc mean is 149.304085.\u001b[0m\n",
      "\u001b[33;1m\u001b[1;3mAn alert should be sent as the criteria for VOC mean is not satisfied. The VOC mean is 149.304085 which is less than 150, but it is not less than or equal to 150 as required by the criteria.\u001b[0m\n",
      "\n",
      "\u001b[1m> Finished chain.\u001b[0m\n"
     ]
    },
    {
     "data": {
      "text/plain": [
       "'An alert should be sent as the criteria for VOC mean is not satisfied. The VOC mean is 149.304085 which is less than 150, but it is not less than or equal to 150 as required by the criteria.'"
      ]
     },
     "execution_count": 14,
     "metadata": {},
     "output_type": "execute_result"
    }
   ],
   "source": [
    "alert_bot= SimpleSequentialChain(chains=[pandas_agent, alert_sender], verbose=True)\n",
    "alert_bot.run(\"Get the mean value of co2, pm2.5 and voc of zone level_2_space_z. \")"
   ]
  },
  {
   "cell_type": "markdown",
   "id": "ef846ac7",
   "metadata": {},
   "source": [
    "# Retriever "
   ]
  },
  {
   "cell_type": "code",
   "execution_count": 15,
   "id": "3e90feb3",
   "metadata": {},
   "outputs": [],
   "source": [
    "from langchain.embeddings.openai import OpenAIEmbeddings\n",
    "from langchain.chat_models import ChatOpenAI\n",
    "from langchain.llms import OpenAI\n",
    "from langchain.chains import RetrievalQA\n",
    "from langchain.document_loaders.csv_loader import CSVLoader\n",
    "from langchain.vectorstores import FAISS\n",
    "from langchain.prompts import PromptTemplate"
   ]
  },
  {
   "cell_type": "code",
   "execution_count": 16,
   "id": "06742407",
   "metadata": {},
   "outputs": [],
   "source": [
    "loader = CSVLoader(file_path='air_quality.csv')\n",
    "data = loader.load()"
   ]
  },
  {
   "cell_type": "code",
   "execution_count": 17,
   "id": "d6b2ac64",
   "metadata": {},
   "outputs": [],
   "source": [
    "embeddings = OpenAIEmbeddings()\n",
    "vectorstore = FAISS.from_documents(data, embeddings)\n",
    "retriever = vectorstore.as_retriever()"
   ]
  },
  {
   "cell_type": "code",
   "execution_count": 18,
   "id": "a0952e0c",
   "metadata": {},
   "outputs": [
    {
     "data": {
      "text/plain": [
       "'Based on the given data, we can calculate the average values for each parameter in zone level_2_space_z:\\n\\n- Average co2: (486.64941341793605 + 640.7694795493051 + 624.4318531986514) / 3 = 583.2832483889642\\n- Average pm2.5: (10.735617412553209 + 10.602147333627244 + 6.812933791128792) / 3 = 9.383566845436748\\n- Average voc: (178.2196606078645 + 282.6079725734885 + 120.98336366306097) / 3 = 193.6033322814713\\n\\nBased on these calculations, we can see that the average value of co2 in zone level_2_space_z is less than 600, which satisfies the first criteria. However, the average value of pm2.5 and voc in this zone are both greater than 10 and 150 respectively, which means that this zone does not satisfy the second and third criteria for air quality in an office building.'"
      ]
     },
     "execution_count": 18,
     "metadata": {},
     "output_type": "execute_result"
    }
   ],
   "source": [
    "alert_bot = RetrievalQA.from_chain_type(llm=llm,\\\n",
    "                                        chain_type=\"stuff\",\\\n",
    "                                        retriever=retriever)\n",
    "air_quality_criteria=\"1. The average value co2 should be less than 600 by zone, \\\n",
    "2. The average value of pm2.5 should be less than 10 by zone, \\\n",
    "3. The average value of voc should be less than 150 by zone.\"\n",
    "\n",
    "alert_bot.run(\n",
    "   f\"Does zone level_2_space_z satisfies criteria for air quality in an office building: \\n\\n {air_quality_criteria} \\n\\n?\"\n",
    ")"
   ]
  },
  {
   "cell_type": "code",
   "execution_count": 19,
   "id": "bf11271f",
   "metadata": {},
   "outputs": [
    {
     "data": {
      "text/plain": [
       "[Document(page_content=': 20432\\nbuilding_id: montmartre_1\\nzone: level_2_space_z\\nlocal_time: 2021-02-03 00:00:00\\nco2: 459.02841578030467\\npm2.5: 6.701546912613074\\nvoc: 113.76630630008938\\noperating_date: 2021-02-03', metadata={'source': 'air_quality.csv', 'row': 20432}),\n",
       " Document(page_content=': 25519\\nbuilding_id: montmartre_1\\nzone: level_2_space_z\\nlocal_time: 2021-03-27 23:45:00\\nco2: 433.1016248073304\\npm2.5: 7.0777416825691155\\nvoc: 107.17875350510484\\noperating_date: 2021-03-27', metadata={'source': 'air_quality.csv', 'row': 25519}),\n",
       " Document(page_content=': 24576\\nbuilding_id: montmartre_1\\nzone: level_2_space_z\\nlocal_time: 2021-03-18 04:00:00\\nco2: 324.90747541067236\\npm2.5: 3.834183099002247\\nvoc: 70.26112321835673\\noperating_date: 2021-03-18', metadata={'source': 'air_quality.csv', 'row': 24576}),\n",
       " Document(page_content=': 25664\\nbuilding_id: montmartre_1\\nzone: level_2_space_z\\nlocal_time: 2021-03-29 12:00:00\\nco2: 570.6097586886901\\npm2.5: 13.596116365356881\\nvoc: 301.6753424489557\\noperating_date: 2021-03-29', metadata={'source': 'air_quality.csv', 'row': 25664})]"
      ]
     },
     "execution_count": 19,
     "metadata": {},
     "output_type": "execute_result"
    }
   ],
   "source": [
    "retriever.get_relevant_documents(\"What the co2 value of zone level_2_space_z?\")"
   ]
  },
  {
   "cell_type": "code",
   "execution_count": null,
   "id": "72439a47",
   "metadata": {},
   "outputs": [],
   "source": []
  },
  {
   "cell_type": "code",
   "execution_count": null,
   "id": "4e1f07d8",
   "metadata": {},
   "outputs": [],
   "source": []
  },
  {
   "cell_type": "code",
   "execution_count": null,
   "id": "248aa139",
   "metadata": {},
   "outputs": [],
   "source": []
  }
 ],
 "metadata": {
  "kernelspec": {
   "display_name": "notebook",
   "language": "python",
   "name": "notebook"
  },
  "language_info": {
   "codemirror_mode": {
    "name": "ipython",
    "version": 3
   },
   "file_extension": ".py",
   "mimetype": "text/x-python",
   "name": "python",
   "nbconvert_exporter": "python",
   "pygments_lexer": "ipython3",
   "version": "3.10.0"
  }
 },
 "nbformat": 4,
 "nbformat_minor": 5
}
